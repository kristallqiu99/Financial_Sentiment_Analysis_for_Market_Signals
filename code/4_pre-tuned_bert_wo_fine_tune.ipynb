{
  "nbformat": 4,
  "nbformat_minor": 0,
  "metadata": {
    "colab": {
      "provenance": [],
      "machine_shape": "hm"
    },
    "kernelspec": {
      "name": "python3",
      "display_name": "Python 3"
    },
    "language_info": {
      "name": "python"
    },
    "accelerator": "GPU",
    "widgets": {
      "application/vnd.jupyter.widget-state+json": {
        "dacdb47cfa5a466c8561464b88ea7370": {
          "model_module": "@jupyter-widgets/controls",
          "model_name": "HBoxModel",
          "model_module_version": "1.5.0",
          "state": {
            "_dom_classes": [],
            "_model_module": "@jupyter-widgets/controls",
            "_model_module_version": "1.5.0",
            "_model_name": "HBoxModel",
            "_view_count": null,
            "_view_module": "@jupyter-widgets/controls",
            "_view_module_version": "1.5.0",
            "_view_name": "HBoxView",
            "box_style": "",
            "children": [
              "IPY_MODEL_96f3850078ed4139a31fdc50b94f9a89",
              "IPY_MODEL_397f41aec12e439fb22051eaf9e53c87",
              "IPY_MODEL_88fe811c3a4a4ee9a6d4be3275d7c031"
            ],
            "layout": "IPY_MODEL_fff17e91ca144f1b9809240933602ab7"
          }
        },
        "96f3850078ed4139a31fdc50b94f9a89": {
          "model_module": "@jupyter-widgets/controls",
          "model_name": "HTMLModel",
          "model_module_version": "1.5.0",
          "state": {
            "_dom_classes": [],
            "_model_module": "@jupyter-widgets/controls",
            "_model_module_version": "1.5.0",
            "_model_name": "HTMLModel",
            "_view_count": null,
            "_view_module": "@jupyter-widgets/controls",
            "_view_module_version": "1.5.0",
            "_view_name": "HTMLView",
            "description": "",
            "description_tooltip": null,
            "layout": "IPY_MODEL_227d994007184b758dc1eadf278ec7b1",
            "placeholder": "​",
            "style": "IPY_MODEL_74c6b779a0f04913841bd31950d71199",
            "value": "Downloading: 100%"
          }
        },
        "397f41aec12e439fb22051eaf9e53c87": {
          "model_module": "@jupyter-widgets/controls",
          "model_name": "FloatProgressModel",
          "model_module_version": "1.5.0",
          "state": {
            "_dom_classes": [],
            "_model_module": "@jupyter-widgets/controls",
            "_model_module_version": "1.5.0",
            "_model_name": "FloatProgressModel",
            "_view_count": null,
            "_view_module": "@jupyter-widgets/controls",
            "_view_module_version": "1.5.0",
            "_view_name": "ProgressView",
            "bar_style": "success",
            "description": "",
            "description_tooltip": null,
            "layout": "IPY_MODEL_13c81451cca141c691a46ed3d9c42204",
            "max": 213450,
            "min": 0,
            "orientation": "horizontal",
            "style": "IPY_MODEL_7c4a21bf64ea4d0cae3cdf22fd383f9f",
            "value": 213450
          }
        },
        "88fe811c3a4a4ee9a6d4be3275d7c031": {
          "model_module": "@jupyter-widgets/controls",
          "model_name": "HTMLModel",
          "model_module_version": "1.5.0",
          "state": {
            "_dom_classes": [],
            "_model_module": "@jupyter-widgets/controls",
            "_model_module_version": "1.5.0",
            "_model_name": "HTMLModel",
            "_view_count": null,
            "_view_module": "@jupyter-widgets/controls",
            "_view_module_version": "1.5.0",
            "_view_name": "HTMLView",
            "description": "",
            "description_tooltip": null,
            "layout": "IPY_MODEL_a74cd789adfd4cb0bdc830e1d7768374",
            "placeholder": "​",
            "style": "IPY_MODEL_52209780032e48ae801f2b33aea7ec45",
            "value": " 213k/213k [00:00&lt;00:00, 360kB/s]"
          }
        },
        "fff17e91ca144f1b9809240933602ab7": {
          "model_module": "@jupyter-widgets/base",
          "model_name": "LayoutModel",
          "model_module_version": "1.2.0",
          "state": {
            "_model_module": "@jupyter-widgets/base",
            "_model_module_version": "1.2.0",
            "_model_name": "LayoutModel",
            "_view_count": null,
            "_view_module": "@jupyter-widgets/base",
            "_view_module_version": "1.2.0",
            "_view_name": "LayoutView",
            "align_content": null,
            "align_items": null,
            "align_self": null,
            "border": null,
            "bottom": null,
            "display": null,
            "flex": null,
            "flex_flow": null,
            "grid_area": null,
            "grid_auto_columns": null,
            "grid_auto_flow": null,
            "grid_auto_rows": null,
            "grid_column": null,
            "grid_gap": null,
            "grid_row": null,
            "grid_template_areas": null,
            "grid_template_columns": null,
            "grid_template_rows": null,
            "height": null,
            "justify_content": null,
            "justify_items": null,
            "left": null,
            "margin": null,
            "max_height": null,
            "max_width": null,
            "min_height": null,
            "min_width": null,
            "object_fit": null,
            "object_position": null,
            "order": null,
            "overflow": null,
            "overflow_x": null,
            "overflow_y": null,
            "padding": null,
            "right": null,
            "top": null,
            "visibility": null,
            "width": null
          }
        },
        "227d994007184b758dc1eadf278ec7b1": {
          "model_module": "@jupyter-widgets/base",
          "model_name": "LayoutModel",
          "model_module_version": "1.2.0",
          "state": {
            "_model_module": "@jupyter-widgets/base",
            "_model_module_version": "1.2.0",
            "_model_name": "LayoutModel",
            "_view_count": null,
            "_view_module": "@jupyter-widgets/base",
            "_view_module_version": "1.2.0",
            "_view_name": "LayoutView",
            "align_content": null,
            "align_items": null,
            "align_self": null,
            "border": null,
            "bottom": null,
            "display": null,
            "flex": null,
            "flex_flow": null,
            "grid_area": null,
            "grid_auto_columns": null,
            "grid_auto_flow": null,
            "grid_auto_rows": null,
            "grid_column": null,
            "grid_gap": null,
            "grid_row": null,
            "grid_template_areas": null,
            "grid_template_columns": null,
            "grid_template_rows": null,
            "height": null,
            "justify_content": null,
            "justify_items": null,
            "left": null,
            "margin": null,
            "max_height": null,
            "max_width": null,
            "min_height": null,
            "min_width": null,
            "object_fit": null,
            "object_position": null,
            "order": null,
            "overflow": null,
            "overflow_x": null,
            "overflow_y": null,
            "padding": null,
            "right": null,
            "top": null,
            "visibility": null,
            "width": null
          }
        },
        "74c6b779a0f04913841bd31950d71199": {
          "model_module": "@jupyter-widgets/controls",
          "model_name": "DescriptionStyleModel",
          "model_module_version": "1.5.0",
          "state": {
            "_model_module": "@jupyter-widgets/controls",
            "_model_module_version": "1.5.0",
            "_model_name": "DescriptionStyleModel",
            "_view_count": null,
            "_view_module": "@jupyter-widgets/base",
            "_view_module_version": "1.2.0",
            "_view_name": "StyleView",
            "description_width": ""
          }
        },
        "13c81451cca141c691a46ed3d9c42204": {
          "model_module": "@jupyter-widgets/base",
          "model_name": "LayoutModel",
          "model_module_version": "1.2.0",
          "state": {
            "_model_module": "@jupyter-widgets/base",
            "_model_module_version": "1.2.0",
            "_model_name": "LayoutModel",
            "_view_count": null,
            "_view_module": "@jupyter-widgets/base",
            "_view_module_version": "1.2.0",
            "_view_name": "LayoutView",
            "align_content": null,
            "align_items": null,
            "align_self": null,
            "border": null,
            "bottom": null,
            "display": null,
            "flex": null,
            "flex_flow": null,
            "grid_area": null,
            "grid_auto_columns": null,
            "grid_auto_flow": null,
            "grid_auto_rows": null,
            "grid_column": null,
            "grid_gap": null,
            "grid_row": null,
            "grid_template_areas": null,
            "grid_template_columns": null,
            "grid_template_rows": null,
            "height": null,
            "justify_content": null,
            "justify_items": null,
            "left": null,
            "margin": null,
            "max_height": null,
            "max_width": null,
            "min_height": null,
            "min_width": null,
            "object_fit": null,
            "object_position": null,
            "order": null,
            "overflow": null,
            "overflow_x": null,
            "overflow_y": null,
            "padding": null,
            "right": null,
            "top": null,
            "visibility": null,
            "width": null
          }
        },
        "7c4a21bf64ea4d0cae3cdf22fd383f9f": {
          "model_module": "@jupyter-widgets/controls",
          "model_name": "ProgressStyleModel",
          "model_module_version": "1.5.0",
          "state": {
            "_model_module": "@jupyter-widgets/controls",
            "_model_module_version": "1.5.0",
            "_model_name": "ProgressStyleModel",
            "_view_count": null,
            "_view_module": "@jupyter-widgets/base",
            "_view_module_version": "1.2.0",
            "_view_name": "StyleView",
            "bar_color": null,
            "description_width": ""
          }
        },
        "a74cd789adfd4cb0bdc830e1d7768374": {
          "model_module": "@jupyter-widgets/base",
          "model_name": "LayoutModel",
          "model_module_version": "1.2.0",
          "state": {
            "_model_module": "@jupyter-widgets/base",
            "_model_module_version": "1.2.0",
            "_model_name": "LayoutModel",
            "_view_count": null,
            "_view_module": "@jupyter-widgets/base",
            "_view_module_version": "1.2.0",
            "_view_name": "LayoutView",
            "align_content": null,
            "align_items": null,
            "align_self": null,
            "border": null,
            "bottom": null,
            "display": null,
            "flex": null,
            "flex_flow": null,
            "grid_area": null,
            "grid_auto_columns": null,
            "grid_auto_flow": null,
            "grid_auto_rows": null,
            "grid_column": null,
            "grid_gap": null,
            "grid_row": null,
            "grid_template_areas": null,
            "grid_template_columns": null,
            "grid_template_rows": null,
            "height": null,
            "justify_content": null,
            "justify_items": null,
            "left": null,
            "margin": null,
            "max_height": null,
            "max_width": null,
            "min_height": null,
            "min_width": null,
            "object_fit": null,
            "object_position": null,
            "order": null,
            "overflow": null,
            "overflow_x": null,
            "overflow_y": null,
            "padding": null,
            "right": null,
            "top": null,
            "visibility": null,
            "width": null
          }
        },
        "52209780032e48ae801f2b33aea7ec45": {
          "model_module": "@jupyter-widgets/controls",
          "model_name": "DescriptionStyleModel",
          "model_module_version": "1.5.0",
          "state": {
            "_model_module": "@jupyter-widgets/controls",
            "_model_module_version": "1.5.0",
            "_model_name": "DescriptionStyleModel",
            "_view_count": null,
            "_view_module": "@jupyter-widgets/base",
            "_view_module_version": "1.2.0",
            "_view_name": "StyleView",
            "description_width": ""
          }
        },
        "4a03fa8b6bba47a88935ef21a2eb29bb": {
          "model_module": "@jupyter-widgets/controls",
          "model_name": "HBoxModel",
          "model_module_version": "1.5.0",
          "state": {
            "_dom_classes": [],
            "_model_module": "@jupyter-widgets/controls",
            "_model_module_version": "1.5.0",
            "_model_name": "HBoxModel",
            "_view_count": null,
            "_view_module": "@jupyter-widgets/controls",
            "_view_module_version": "1.5.0",
            "_view_name": "HBoxView",
            "box_style": "",
            "children": [
              "IPY_MODEL_d1714cbd906f4b4c9071c2a595f34a28",
              "IPY_MODEL_888051c843ca4d0281b15c56f8c9b119",
              "IPY_MODEL_7f8ed07a491f40bc84541d88dd2dc76a"
            ],
            "layout": "IPY_MODEL_951e610d8dec48adb5f2739979fc0061"
          }
        },
        "d1714cbd906f4b4c9071c2a595f34a28": {
          "model_module": "@jupyter-widgets/controls",
          "model_name": "HTMLModel",
          "model_module_version": "1.5.0",
          "state": {
            "_dom_classes": [],
            "_model_module": "@jupyter-widgets/controls",
            "_model_module_version": "1.5.0",
            "_model_name": "HTMLModel",
            "_view_count": null,
            "_view_module": "@jupyter-widgets/controls",
            "_view_module_version": "1.5.0",
            "_view_name": "HTMLView",
            "description": "",
            "description_tooltip": null,
            "layout": "IPY_MODEL_964c7dc0d7cd41d39397e0bcfe7a06a3",
            "placeholder": "​",
            "style": "IPY_MODEL_5acce695dd3c40c4825a367bf8274f86",
            "value": "Downloading: 100%"
          }
        },
        "888051c843ca4d0281b15c56f8c9b119": {
          "model_module": "@jupyter-widgets/controls",
          "model_name": "FloatProgressModel",
          "model_module_version": "1.5.0",
          "state": {
            "_dom_classes": [],
            "_model_module": "@jupyter-widgets/controls",
            "_model_module_version": "1.5.0",
            "_model_name": "FloatProgressModel",
            "_view_count": null,
            "_view_module": "@jupyter-widgets/controls",
            "_view_module_version": "1.5.0",
            "_view_name": "ProgressView",
            "bar_style": "success",
            "description": "",
            "description_tooltip": null,
            "layout": "IPY_MODEL_e9dbf2cfb8d94d60a2bed7f3ad3b8339",
            "max": 29,
            "min": 0,
            "orientation": "horizontal",
            "style": "IPY_MODEL_d5f871e965dc4dfc93090e9ac71f4c4d",
            "value": 29
          }
        },
        "7f8ed07a491f40bc84541d88dd2dc76a": {
          "model_module": "@jupyter-widgets/controls",
          "model_name": "HTMLModel",
          "model_module_version": "1.5.0",
          "state": {
            "_dom_classes": [],
            "_model_module": "@jupyter-widgets/controls",
            "_model_module_version": "1.5.0",
            "_model_name": "HTMLModel",
            "_view_count": null,
            "_view_module": "@jupyter-widgets/controls",
            "_view_module_version": "1.5.0",
            "_view_name": "HTMLView",
            "description": "",
            "description_tooltip": null,
            "layout": "IPY_MODEL_5fe4826fff2e42dda387cb627d866984",
            "placeholder": "​",
            "style": "IPY_MODEL_b9448ce692174cdcb2dde69cb02cb23e",
            "value": " 29.0/29.0 [00:00&lt;00:00, 305B/s]"
          }
        },
        "951e610d8dec48adb5f2739979fc0061": {
          "model_module": "@jupyter-widgets/base",
          "model_name": "LayoutModel",
          "model_module_version": "1.2.0",
          "state": {
            "_model_module": "@jupyter-widgets/base",
            "_model_module_version": "1.2.0",
            "_model_name": "LayoutModel",
            "_view_count": null,
            "_view_module": "@jupyter-widgets/base",
            "_view_module_version": "1.2.0",
            "_view_name": "LayoutView",
            "align_content": null,
            "align_items": null,
            "align_self": null,
            "border": null,
            "bottom": null,
            "display": null,
            "flex": null,
            "flex_flow": null,
            "grid_area": null,
            "grid_auto_columns": null,
            "grid_auto_flow": null,
            "grid_auto_rows": null,
            "grid_column": null,
            "grid_gap": null,
            "grid_row": null,
            "grid_template_areas": null,
            "grid_template_columns": null,
            "grid_template_rows": null,
            "height": null,
            "justify_content": null,
            "justify_items": null,
            "left": null,
            "margin": null,
            "max_height": null,
            "max_width": null,
            "min_height": null,
            "min_width": null,
            "object_fit": null,
            "object_position": null,
            "order": null,
            "overflow": null,
            "overflow_x": null,
            "overflow_y": null,
            "padding": null,
            "right": null,
            "top": null,
            "visibility": null,
            "width": null
          }
        },
        "964c7dc0d7cd41d39397e0bcfe7a06a3": {
          "model_module": "@jupyter-widgets/base",
          "model_name": "LayoutModel",
          "model_module_version": "1.2.0",
          "state": {
            "_model_module": "@jupyter-widgets/base",
            "_model_module_version": "1.2.0",
            "_model_name": "LayoutModel",
            "_view_count": null,
            "_view_module": "@jupyter-widgets/base",
            "_view_module_version": "1.2.0",
            "_view_name": "LayoutView",
            "align_content": null,
            "align_items": null,
            "align_self": null,
            "border": null,
            "bottom": null,
            "display": null,
            "flex": null,
            "flex_flow": null,
            "grid_area": null,
            "grid_auto_columns": null,
            "grid_auto_flow": null,
            "grid_auto_rows": null,
            "grid_column": null,
            "grid_gap": null,
            "grid_row": null,
            "grid_template_areas": null,
            "grid_template_columns": null,
            "grid_template_rows": null,
            "height": null,
            "justify_content": null,
            "justify_items": null,
            "left": null,
            "margin": null,
            "max_height": null,
            "max_width": null,
            "min_height": null,
            "min_width": null,
            "object_fit": null,
            "object_position": null,
            "order": null,
            "overflow": null,
            "overflow_x": null,
            "overflow_y": null,
            "padding": null,
            "right": null,
            "top": null,
            "visibility": null,
            "width": null
          }
        },
        "5acce695dd3c40c4825a367bf8274f86": {
          "model_module": "@jupyter-widgets/controls",
          "model_name": "DescriptionStyleModel",
          "model_module_version": "1.5.0",
          "state": {
            "_model_module": "@jupyter-widgets/controls",
            "_model_module_version": "1.5.0",
            "_model_name": "DescriptionStyleModel",
            "_view_count": null,
            "_view_module": "@jupyter-widgets/base",
            "_view_module_version": "1.2.0",
            "_view_name": "StyleView",
            "description_width": ""
          }
        },
        "e9dbf2cfb8d94d60a2bed7f3ad3b8339": {
          "model_module": "@jupyter-widgets/base",
          "model_name": "LayoutModel",
          "model_module_version": "1.2.0",
          "state": {
            "_model_module": "@jupyter-widgets/base",
            "_model_module_version": "1.2.0",
            "_model_name": "LayoutModel",
            "_view_count": null,
            "_view_module": "@jupyter-widgets/base",
            "_view_module_version": "1.2.0",
            "_view_name": "LayoutView",
            "align_content": null,
            "align_items": null,
            "align_self": null,
            "border": null,
            "bottom": null,
            "display": null,
            "flex": null,
            "flex_flow": null,
            "grid_area": null,
            "grid_auto_columns": null,
            "grid_auto_flow": null,
            "grid_auto_rows": null,
            "grid_column": null,
            "grid_gap": null,
            "grid_row": null,
            "grid_template_areas": null,
            "grid_template_columns": null,
            "grid_template_rows": null,
            "height": null,
            "justify_content": null,
            "justify_items": null,
            "left": null,
            "margin": null,
            "max_height": null,
            "max_width": null,
            "min_height": null,
            "min_width": null,
            "object_fit": null,
            "object_position": null,
            "order": null,
            "overflow": null,
            "overflow_x": null,
            "overflow_y": null,
            "padding": null,
            "right": null,
            "top": null,
            "visibility": null,
            "width": null
          }
        },
        "d5f871e965dc4dfc93090e9ac71f4c4d": {
          "model_module": "@jupyter-widgets/controls",
          "model_name": "ProgressStyleModel",
          "model_module_version": "1.5.0",
          "state": {
            "_model_module": "@jupyter-widgets/controls",
            "_model_module_version": "1.5.0",
            "_model_name": "ProgressStyleModel",
            "_view_count": null,
            "_view_module": "@jupyter-widgets/base",
            "_view_module_version": "1.2.0",
            "_view_name": "StyleView",
            "bar_color": null,
            "description_width": ""
          }
        },
        "5fe4826fff2e42dda387cb627d866984": {
          "model_module": "@jupyter-widgets/base",
          "model_name": "LayoutModel",
          "model_module_version": "1.2.0",
          "state": {
            "_model_module": "@jupyter-widgets/base",
            "_model_module_version": "1.2.0",
            "_model_name": "LayoutModel",
            "_view_count": null,
            "_view_module": "@jupyter-widgets/base",
            "_view_module_version": "1.2.0",
            "_view_name": "LayoutView",
            "align_content": null,
            "align_items": null,
            "align_self": null,
            "border": null,
            "bottom": null,
            "display": null,
            "flex": null,
            "flex_flow": null,
            "grid_area": null,
            "grid_auto_columns": null,
            "grid_auto_flow": null,
            "grid_auto_rows": null,
            "grid_column": null,
            "grid_gap": null,
            "grid_row": null,
            "grid_template_areas": null,
            "grid_template_columns": null,
            "grid_template_rows": null,
            "height": null,
            "justify_content": null,
            "justify_items": null,
            "left": null,
            "margin": null,
            "max_height": null,
            "max_width": null,
            "min_height": null,
            "min_width": null,
            "object_fit": null,
            "object_position": null,
            "order": null,
            "overflow": null,
            "overflow_x": null,
            "overflow_y": null,
            "padding": null,
            "right": null,
            "top": null,
            "visibility": null,
            "width": null
          }
        },
        "b9448ce692174cdcb2dde69cb02cb23e": {
          "model_module": "@jupyter-widgets/controls",
          "model_name": "DescriptionStyleModel",
          "model_module_version": "1.5.0",
          "state": {
            "_model_module": "@jupyter-widgets/controls",
            "_model_module_version": "1.5.0",
            "_model_name": "DescriptionStyleModel",
            "_view_count": null,
            "_view_module": "@jupyter-widgets/base",
            "_view_module_version": "1.2.0",
            "_view_name": "StyleView",
            "description_width": ""
          }
        },
        "b8dd1d72ec704026a306d5fa7d9e2050": {
          "model_module": "@jupyter-widgets/controls",
          "model_name": "HBoxModel",
          "model_module_version": "1.5.0",
          "state": {
            "_dom_classes": [],
            "_model_module": "@jupyter-widgets/controls",
            "_model_module_version": "1.5.0",
            "_model_name": "HBoxModel",
            "_view_count": null,
            "_view_module": "@jupyter-widgets/controls",
            "_view_module_version": "1.5.0",
            "_view_name": "HBoxView",
            "box_style": "",
            "children": [
              "IPY_MODEL_a019fdb8bead4063b1df78186a48068c",
              "IPY_MODEL_557f693e4f4340889a1497c3b6b5d14d",
              "IPY_MODEL_a215541594a0481ab0ae86dd1fa9e382"
            ],
            "layout": "IPY_MODEL_4c6edab9621949bea54da58b5bda30a1"
          }
        },
        "a019fdb8bead4063b1df78186a48068c": {
          "model_module": "@jupyter-widgets/controls",
          "model_name": "HTMLModel",
          "model_module_version": "1.5.0",
          "state": {
            "_dom_classes": [],
            "_model_module": "@jupyter-widgets/controls",
            "_model_module_version": "1.5.0",
            "_model_name": "HTMLModel",
            "_view_count": null,
            "_view_module": "@jupyter-widgets/controls",
            "_view_module_version": "1.5.0",
            "_view_name": "HTMLView",
            "description": "",
            "description_tooltip": null,
            "layout": "IPY_MODEL_c0d1927f84df48dab28fc21dc7a6e343",
            "placeholder": "​",
            "style": "IPY_MODEL_a4cc233c3a1f404f8e123a20eebce8fb",
            "value": "Downloading: 100%"
          }
        },
        "557f693e4f4340889a1497c3b6b5d14d": {
          "model_module": "@jupyter-widgets/controls",
          "model_name": "FloatProgressModel",
          "model_module_version": "1.5.0",
          "state": {
            "_dom_classes": [],
            "_model_module": "@jupyter-widgets/controls",
            "_model_module_version": "1.5.0",
            "_model_name": "FloatProgressModel",
            "_view_count": null,
            "_view_module": "@jupyter-widgets/controls",
            "_view_module_version": "1.5.0",
            "_view_name": "ProgressView",
            "bar_style": "success",
            "description": "",
            "description_tooltip": null,
            "layout": "IPY_MODEL_d302ba7684c24dbeb2d8342aa55cf06a",
            "max": 570,
            "min": 0,
            "orientation": "horizontal",
            "style": "IPY_MODEL_22f5a4bac50a4bc2b8efa12f9673168c",
            "value": 570
          }
        },
        "a215541594a0481ab0ae86dd1fa9e382": {
          "model_module": "@jupyter-widgets/controls",
          "model_name": "HTMLModel",
          "model_module_version": "1.5.0",
          "state": {
            "_dom_classes": [],
            "_model_module": "@jupyter-widgets/controls",
            "_model_module_version": "1.5.0",
            "_model_name": "HTMLModel",
            "_view_count": null,
            "_view_module": "@jupyter-widgets/controls",
            "_view_module_version": "1.5.0",
            "_view_name": "HTMLView",
            "description": "",
            "description_tooltip": null,
            "layout": "IPY_MODEL_e98b8437954b407a9766c5637f9dc6a6",
            "placeholder": "​",
            "style": "IPY_MODEL_df873a8eb17b468ca3d54dc33df4f1b1",
            "value": " 570/570 [00:00&lt;00:00, 4.92kB/s]"
          }
        },
        "4c6edab9621949bea54da58b5bda30a1": {
          "model_module": "@jupyter-widgets/base",
          "model_name": "LayoutModel",
          "model_module_version": "1.2.0",
          "state": {
            "_model_module": "@jupyter-widgets/base",
            "_model_module_version": "1.2.0",
            "_model_name": "LayoutModel",
            "_view_count": null,
            "_view_module": "@jupyter-widgets/base",
            "_view_module_version": "1.2.0",
            "_view_name": "LayoutView",
            "align_content": null,
            "align_items": null,
            "align_self": null,
            "border": null,
            "bottom": null,
            "display": null,
            "flex": null,
            "flex_flow": null,
            "grid_area": null,
            "grid_auto_columns": null,
            "grid_auto_flow": null,
            "grid_auto_rows": null,
            "grid_column": null,
            "grid_gap": null,
            "grid_row": null,
            "grid_template_areas": null,
            "grid_template_columns": null,
            "grid_template_rows": null,
            "height": null,
            "justify_content": null,
            "justify_items": null,
            "left": null,
            "margin": null,
            "max_height": null,
            "max_width": null,
            "min_height": null,
            "min_width": null,
            "object_fit": null,
            "object_position": null,
            "order": null,
            "overflow": null,
            "overflow_x": null,
            "overflow_y": null,
            "padding": null,
            "right": null,
            "top": null,
            "visibility": null,
            "width": null
          }
        },
        "c0d1927f84df48dab28fc21dc7a6e343": {
          "model_module": "@jupyter-widgets/base",
          "model_name": "LayoutModel",
          "model_module_version": "1.2.0",
          "state": {
            "_model_module": "@jupyter-widgets/base",
            "_model_module_version": "1.2.0",
            "_model_name": "LayoutModel",
            "_view_count": null,
            "_view_module": "@jupyter-widgets/base",
            "_view_module_version": "1.2.0",
            "_view_name": "LayoutView",
            "align_content": null,
            "align_items": null,
            "align_self": null,
            "border": null,
            "bottom": null,
            "display": null,
            "flex": null,
            "flex_flow": null,
            "grid_area": null,
            "grid_auto_columns": null,
            "grid_auto_flow": null,
            "grid_auto_rows": null,
            "grid_column": null,
            "grid_gap": null,
            "grid_row": null,
            "grid_template_areas": null,
            "grid_template_columns": null,
            "grid_template_rows": null,
            "height": null,
            "justify_content": null,
            "justify_items": null,
            "left": null,
            "margin": null,
            "max_height": null,
            "max_width": null,
            "min_height": null,
            "min_width": null,
            "object_fit": null,
            "object_position": null,
            "order": null,
            "overflow": null,
            "overflow_x": null,
            "overflow_y": null,
            "padding": null,
            "right": null,
            "top": null,
            "visibility": null,
            "width": null
          }
        },
        "a4cc233c3a1f404f8e123a20eebce8fb": {
          "model_module": "@jupyter-widgets/controls",
          "model_name": "DescriptionStyleModel",
          "model_module_version": "1.5.0",
          "state": {
            "_model_module": "@jupyter-widgets/controls",
            "_model_module_version": "1.5.0",
            "_model_name": "DescriptionStyleModel",
            "_view_count": null,
            "_view_module": "@jupyter-widgets/base",
            "_view_module_version": "1.2.0",
            "_view_name": "StyleView",
            "description_width": ""
          }
        },
        "d302ba7684c24dbeb2d8342aa55cf06a": {
          "model_module": "@jupyter-widgets/base",
          "model_name": "LayoutModel",
          "model_module_version": "1.2.0",
          "state": {
            "_model_module": "@jupyter-widgets/base",
            "_model_module_version": "1.2.0",
            "_model_name": "LayoutModel",
            "_view_count": null,
            "_view_module": "@jupyter-widgets/base",
            "_view_module_version": "1.2.0",
            "_view_name": "LayoutView",
            "align_content": null,
            "align_items": null,
            "align_self": null,
            "border": null,
            "bottom": null,
            "display": null,
            "flex": null,
            "flex_flow": null,
            "grid_area": null,
            "grid_auto_columns": null,
            "grid_auto_flow": null,
            "grid_auto_rows": null,
            "grid_column": null,
            "grid_gap": null,
            "grid_row": null,
            "grid_template_areas": null,
            "grid_template_columns": null,
            "grid_template_rows": null,
            "height": null,
            "justify_content": null,
            "justify_items": null,
            "left": null,
            "margin": null,
            "max_height": null,
            "max_width": null,
            "min_height": null,
            "min_width": null,
            "object_fit": null,
            "object_position": null,
            "order": null,
            "overflow": null,
            "overflow_x": null,
            "overflow_y": null,
            "padding": null,
            "right": null,
            "top": null,
            "visibility": null,
            "width": null
          }
        },
        "22f5a4bac50a4bc2b8efa12f9673168c": {
          "model_module": "@jupyter-widgets/controls",
          "model_name": "ProgressStyleModel",
          "model_module_version": "1.5.0",
          "state": {
            "_model_module": "@jupyter-widgets/controls",
            "_model_module_version": "1.5.0",
            "_model_name": "ProgressStyleModel",
            "_view_count": null,
            "_view_module": "@jupyter-widgets/base",
            "_view_module_version": "1.2.0",
            "_view_name": "StyleView",
            "bar_color": null,
            "description_width": ""
          }
        },
        "e98b8437954b407a9766c5637f9dc6a6": {
          "model_module": "@jupyter-widgets/base",
          "model_name": "LayoutModel",
          "model_module_version": "1.2.0",
          "state": {
            "_model_module": "@jupyter-widgets/base",
            "_model_module_version": "1.2.0",
            "_model_name": "LayoutModel",
            "_view_count": null,
            "_view_module": "@jupyter-widgets/base",
            "_view_module_version": "1.2.0",
            "_view_name": "LayoutView",
            "align_content": null,
            "align_items": null,
            "align_self": null,
            "border": null,
            "bottom": null,
            "display": null,
            "flex": null,
            "flex_flow": null,
            "grid_area": null,
            "grid_auto_columns": null,
            "grid_auto_flow": null,
            "grid_auto_rows": null,
            "grid_column": null,
            "grid_gap": null,
            "grid_row": null,
            "grid_template_areas": null,
            "grid_template_columns": null,
            "grid_template_rows": null,
            "height": null,
            "justify_content": null,
            "justify_items": null,
            "left": null,
            "margin": null,
            "max_height": null,
            "max_width": null,
            "min_height": null,
            "min_width": null,
            "object_fit": null,
            "object_position": null,
            "order": null,
            "overflow": null,
            "overflow_x": null,
            "overflow_y": null,
            "padding": null,
            "right": null,
            "top": null,
            "visibility": null,
            "width": null
          }
        },
        "df873a8eb17b468ca3d54dc33df4f1b1": {
          "model_module": "@jupyter-widgets/controls",
          "model_name": "DescriptionStyleModel",
          "model_module_version": "1.5.0",
          "state": {
            "_model_module": "@jupyter-widgets/controls",
            "_model_module_version": "1.5.0",
            "_model_name": "DescriptionStyleModel",
            "_view_count": null,
            "_view_module": "@jupyter-widgets/base",
            "_view_module_version": "1.2.0",
            "_view_name": "StyleView",
            "description_width": ""
          }
        }
      }
    }
  },
  "cells": [
    {
      "cell_type": "code",
      "source": [
        "import pandas as pd\n",
        "import numpy as np\n",
        "import pickle\n",
        "import os\n",
        "import matplotlib.pyplot as plt\n",
        "from sklearn.model_selection import train_test_split\n",
        "from sklearn.metrics import confusion_matrix, ConfusionMatrixDisplay, f1_score\n",
        "\n",
        "import tensorflow as tf\n",
        "from tensorflow import keras\n",
        "\n",
        "keras.utils.set_random_seed(42)"
      ],
      "metadata": {
        "id": "I62eONrNdttJ"
      },
      "execution_count": 1,
      "outputs": []
    },
    {
      "cell_type": "code",
      "source": [
        "# install transformer package\n",
        "!pip install transformers"
      ],
      "metadata": {
        "colab": {
          "base_uri": "https://localhost:8080/"
        },
        "id": "BcC_YZv1cgKl",
        "outputId": "afffc0b9-0d50-40b0-ead8-71b5060349ae"
      },
      "execution_count": 2,
      "outputs": [
        {
          "output_type": "stream",
          "name": "stdout",
          "text": [
            "Looking in indexes: https://pypi.org/simple, https://us-python.pkg.dev/colab-wheels/public/simple/\n",
            "Collecting transformers\n",
            "  Downloading transformers-4.24.0-py3-none-any.whl (5.5 MB)\n",
            "\u001b[K     |████████████████████████████████| 5.5 MB 15.5 MB/s \n",
            "\u001b[?25hCollecting huggingface-hub<1.0,>=0.10.0\n",
            "  Downloading huggingface_hub-0.11.1-py3-none-any.whl (182 kB)\n",
            "\u001b[K     |████████████████████████████████| 182 kB 75.9 MB/s \n",
            "\u001b[?25hRequirement already satisfied: numpy>=1.17 in /usr/local/lib/python3.7/dist-packages (from transformers) (1.21.6)\n",
            "Requirement already satisfied: requests in /usr/local/lib/python3.7/dist-packages (from transformers) (2.23.0)\n",
            "Collecting tokenizers!=0.11.3,<0.14,>=0.11.1\n",
            "  Downloading tokenizers-0.13.2-cp37-cp37m-manylinux_2_17_x86_64.manylinux2014_x86_64.whl (7.6 MB)\n",
            "\u001b[K     |████████████████████████████████| 7.6 MB 62.0 MB/s \n",
            "\u001b[?25hRequirement already satisfied: packaging>=20.0 in /usr/local/lib/python3.7/dist-packages (from transformers) (21.3)\n",
            "Requirement already satisfied: importlib-metadata in /usr/local/lib/python3.7/dist-packages (from transformers) (4.13.0)\n",
            "Requirement already satisfied: filelock in /usr/local/lib/python3.7/dist-packages (from transformers) (3.8.0)\n",
            "Requirement already satisfied: regex!=2019.12.17 in /usr/local/lib/python3.7/dist-packages (from transformers) (2022.6.2)\n",
            "Requirement already satisfied: tqdm>=4.27 in /usr/local/lib/python3.7/dist-packages (from transformers) (4.64.1)\n",
            "Requirement already satisfied: pyyaml>=5.1 in /usr/local/lib/python3.7/dist-packages (from transformers) (6.0)\n",
            "Requirement already satisfied: typing-extensions>=3.7.4.3 in /usr/local/lib/python3.7/dist-packages (from huggingface-hub<1.0,>=0.10.0->transformers) (4.1.1)\n",
            "Requirement already satisfied: pyparsing!=3.0.5,>=2.0.2 in /usr/local/lib/python3.7/dist-packages (from packaging>=20.0->transformers) (3.0.9)\n",
            "Requirement already satisfied: zipp>=0.5 in /usr/local/lib/python3.7/dist-packages (from importlib-metadata->transformers) (3.10.0)\n",
            "Requirement already satisfied: chardet<4,>=3.0.2 in /usr/local/lib/python3.7/dist-packages (from requests->transformers) (3.0.4)\n",
            "Requirement already satisfied: idna<3,>=2.5 in /usr/local/lib/python3.7/dist-packages (from requests->transformers) (2.10)\n",
            "Requirement already satisfied: certifi>=2017.4.17 in /usr/local/lib/python3.7/dist-packages (from requests->transformers) (2022.9.24)\n",
            "Requirement already satisfied: urllib3!=1.25.0,!=1.25.1,<1.26,>=1.21.1 in /usr/local/lib/python3.7/dist-packages (from requests->transformers) (1.24.3)\n",
            "Installing collected packages: tokenizers, huggingface-hub, transformers\n",
            "Successfully installed huggingface-hub-0.11.1 tokenizers-0.13.2 transformers-4.24.0\n"
          ]
        }
      ]
    },
    {
      "cell_type": "code",
      "execution_count": 3,
      "metadata": {
        "id": "EvI4RN8gcXuv"
      },
      "outputs": [],
      "source": [
        "from transformers import BertTokenizer"
      ]
    },
    {
      "cell_type": "code",
      "source": [
        "!nvidia-smi -L"
      ],
      "metadata": {
        "colab": {
          "base_uri": "https://localhost:8080/"
        },
        "id": "11VtrxS3dyAh",
        "outputId": "963a73d5-7088-4432-9b1e-6a78b9c20026"
      },
      "execution_count": 4,
      "outputs": [
        {
          "output_type": "stream",
          "name": "stdout",
          "text": [
            "GPU 0: Tesla T4 (UUID: GPU-b3176a10-473d-65db-0e46-70b44e71121b)\n"
          ]
        }
      ]
    },
    {
      "cell_type": "code",
      "source": [
        "df = pd.read_csv('https://www.dropbox.com/s/bftxg089s8bx86f/Financial%20Sentiment%20Data.csv?dl=1')"
      ],
      "metadata": {
        "id": "hdioh4uadzT8"
      },
      "execution_count": 5,
      "outputs": []
    },
    {
      "cell_type": "code",
      "source": [
        "train_X, test_X, train_y, test_y = train_test_split(df['Sentence'], df['Sentiment'], test_size=0.25, random_state=42, stratify=df['Sentiment'])"
      ],
      "metadata": {
        "id": "mtd6ZlPKNs4-"
      },
      "execution_count": 6,
      "outputs": []
    },
    {
      "cell_type": "code",
      "source": [
        "n_neu = train_y.value_counts()['neutral']\n",
        "n_pos = train_y.value_counts()['positive']\n",
        "n_neg = train_y.value_counts()['negative']\n",
        "\n",
        "train_y.value_counts()"
      ],
      "metadata": {
        "colab": {
          "base_uri": "https://localhost:8080/"
        },
        "id": "C-n97p4omZft",
        "outputId": "ca282bff-e0b2-4e20-cb44-336dca924721"
      },
      "execution_count": 7,
      "outputs": [
        {
          "output_type": "execute_result",
          "data": {
            "text/plain": [
              "neutral     2347\n",
              "positive    1389\n",
              "negative     645\n",
              "Name: Sentiment, dtype: int64"
            ]
          },
          "metadata": {},
          "execution_count": 7
        }
      ]
    },
    {
      "cell_type": "code",
      "source": [
        "# balance data -> upsample minority class\n",
        "train = pd.concat([train_X, train_y], axis=1)\n",
        "train_pos = pd.concat([train[train.Sentiment=='positive'], \n",
        "                      train[train.Sentiment=='positive'].sample(n=(n_neu-n_pos), replace=True, random_state=42)])\n",
        "train_neg = pd.concat([train[train.Sentiment=='negative'],\n",
        "                       train[train.Sentiment=='negative'].sample(n=(n_neu-n_neg), replace=True, random_state=42)])\n",
        "train_balanced = pd.concat([train_pos, train_neg, train[train.Sentiment=='neutral']])\n",
        "train_X, train_y = train_balanced['Sentence'], train_balanced['Sentiment']\n",
        "\n",
        "train_y.value_counts()"
      ],
      "metadata": {
        "colab": {
          "base_uri": "https://localhost:8080/"
        },
        "id": "t_cwLdrBme3o",
        "outputId": "4b56e761-c888-4dca-a399-f315b4e491ca"
      },
      "execution_count": 8,
      "outputs": [
        {
          "output_type": "execute_result",
          "data": {
            "text/plain": [
              "positive    2347\n",
              "negative    2347\n",
              "neutral     2347\n",
              "Name: Sentiment, dtype: int64"
            ]
          },
          "metadata": {},
          "execution_count": 8
        }
      ]
    },
    {
      "cell_type": "code",
      "source": [
        "tokenizer = BertTokenizer.from_pretrained('bert-base-cased')"
      ],
      "metadata": {
        "colab": {
          "base_uri": "https://localhost:8080/",
          "height": 113,
          "referenced_widgets": [
            "dacdb47cfa5a466c8561464b88ea7370",
            "96f3850078ed4139a31fdc50b94f9a89",
            "397f41aec12e439fb22051eaf9e53c87",
            "88fe811c3a4a4ee9a6d4be3275d7c031",
            "fff17e91ca144f1b9809240933602ab7",
            "227d994007184b758dc1eadf278ec7b1",
            "74c6b779a0f04913841bd31950d71199",
            "13c81451cca141c691a46ed3d9c42204",
            "7c4a21bf64ea4d0cae3cdf22fd383f9f",
            "a74cd789adfd4cb0bdc830e1d7768374",
            "52209780032e48ae801f2b33aea7ec45",
            "4a03fa8b6bba47a88935ef21a2eb29bb",
            "d1714cbd906f4b4c9071c2a595f34a28",
            "888051c843ca4d0281b15c56f8c9b119",
            "7f8ed07a491f40bc84541d88dd2dc76a",
            "951e610d8dec48adb5f2739979fc0061",
            "964c7dc0d7cd41d39397e0bcfe7a06a3",
            "5acce695dd3c40c4825a367bf8274f86",
            "e9dbf2cfb8d94d60a2bed7f3ad3b8339",
            "d5f871e965dc4dfc93090e9ac71f4c4d",
            "5fe4826fff2e42dda387cb627d866984",
            "b9448ce692174cdcb2dde69cb02cb23e",
            "b8dd1d72ec704026a306d5fa7d9e2050",
            "a019fdb8bead4063b1df78186a48068c",
            "557f693e4f4340889a1497c3b6b5d14d",
            "a215541594a0481ab0ae86dd1fa9e382",
            "4c6edab9621949bea54da58b5bda30a1",
            "c0d1927f84df48dab28fc21dc7a6e343",
            "a4cc233c3a1f404f8e123a20eebce8fb",
            "d302ba7684c24dbeb2d8342aa55cf06a",
            "22f5a4bac50a4bc2b8efa12f9673168c",
            "e98b8437954b407a9766c5637f9dc6a6",
            "df873a8eb17b468ca3d54dc33df4f1b1"
          ]
        },
        "id": "3L64EXaqcZgz",
        "outputId": "202d732f-47b6-4b56-8aa2-75b412e1f675"
      },
      "execution_count": 9,
      "outputs": [
        {
          "output_type": "display_data",
          "data": {
            "text/plain": [
              "Downloading:   0%|          | 0.00/213k [00:00<?, ?B/s]"
            ],
            "application/vnd.jupyter.widget-view+json": {
              "version_major": 2,
              "version_minor": 0,
              "model_id": "dacdb47cfa5a466c8561464b88ea7370"
            }
          },
          "metadata": {}
        },
        {
          "output_type": "display_data",
          "data": {
            "text/plain": [
              "Downloading:   0%|          | 0.00/29.0 [00:00<?, ?B/s]"
            ],
            "application/vnd.jupyter.widget-view+json": {
              "version_major": 2,
              "version_minor": 0,
              "model_id": "4a03fa8b6bba47a88935ef21a2eb29bb"
            }
          },
          "metadata": {}
        },
        {
          "output_type": "display_data",
          "data": {
            "text/plain": [
              "Downloading:   0%|          | 0.00/570 [00:00<?, ?B/s]"
            ],
            "application/vnd.jupyter.widget-view+json": {
              "version_major": 2,
              "version_minor": 0,
              "model_id": "b8dd1d72ec704026a306d5fa7d9e2050"
            }
          },
          "metadata": {}
        }
      ]
    },
    {
      "cell_type": "code",
      "source": [
        "max_query_length = 100"
      ],
      "metadata": {
        "id": "DJ0zwZkdyZbF"
      },
      "execution_count": 10,
      "outputs": []
    },
    {
      "cell_type": "code",
      "source": [
        "# tokenize both the training set and the test set\n",
        "source_train = tokenizer(train_X.values.tolist(), max_length=max_query_length, return_tensors='tf', truncation=True, padding='max_length')\n",
        "source_test = tokenizer(test_X.values.tolist(), max_length=max_query_length, return_tensors='tf', truncation=True, padding='max_length')"
      ],
      "metadata": {
        "id": "ZXN7CDiUcnBV"
      },
      "execution_count": 11,
      "outputs": []
    },
    {
      "cell_type": "code",
      "source": [
        "# tokenize labels\n",
        "text_vectorization_label = keras.layers.TextVectorization()\n",
        "text_vectorization_label.adapt(train_y.astype(str))\n",
        "num_labels = text_vectorization_label.vocabulary_size()\n",
        "\n",
        "label_train = text_vectorization_label(train_y.astype(str))\n",
        "label_test = text_vectorization_label(test_y.astype(str))"
      ],
      "metadata": {
        "id": "sUZqSdnPdL1z"
      },
      "execution_count": 12,
      "outputs": []
    },
    {
      "cell_type": "code",
      "source": [
        "from google.colab import drive\n",
        "drive.mount('/content/drive')"
      ],
      "metadata": {
        "colab": {
          "base_uri": "https://localhost:8080/"
        },
        "id": "U1wEOFxKnCcI",
        "outputId": "4a784ec4-0420-4694-ec0d-e3ac7e1cd74d"
      },
      "execution_count": 17,
      "outputs": [
        {
          "output_type": "stream",
          "name": "stdout",
          "text": [
            "Drive already mounted at /content/drive; to attempt to forcibly remount, call drive.mount(\"/content/drive\", force_remount=True).\n"
          ]
        }
      ]
    },
    {
      "cell_type": "code",
      "source": [
        "fine_tuned = keras.models.load_model('/content/drive/MyDrive/content/drive/MyDrive/ANLY-580/final_project/fine_tuned_bert_1')"
      ],
      "metadata": {
        "id": "qRB7AJscznah"
      },
      "execution_count": 25,
      "outputs": []
    },
    {
      "cell_type": "code",
      "source": [
        "# Get input\n",
        "new_input = fine_tuned.input\n",
        "# Find the layer to connect\n",
        "hidden_layer = fine_tuned.layers[-2].output['pooler_output']\n",
        "# Connect a new layer on it\n",
        "x = keras.layers.Dense(256, activation='relu')(hidden_layer)\n",
        "# x = keras.layers.Dropout(0.5)(x)\n",
        "x = keras.layers.Dense(128, activation='relu')(x)\n",
        "# x = keras.layers.Dropout(0.5)(x)\n",
        "x = keras.layers.Dense(128, activation='relu')(x)\n",
        "# x = keras.layers.Dropout(0.5)(x)\n",
        "new_output = keras.layers.Dense(num_labels, activation=\"softmax\")(x)\n",
        "# Build a new model\n",
        "model = keras.Model(inputs=new_input, outputs=new_output)\n",
        "\n",
        "for layer in model.layers[:-4]:\n",
        "  layer.trainable = False\n",
        "for layer in model.layers[-4:]:\n",
        "  layer.trainable = True\n",
        "\n",
        "model.summary()"
      ],
      "metadata": {
        "colab": {
          "base_uri": "https://localhost:8080/"
        },
        "id": "0A7Hy8Nqfl_3",
        "outputId": "a80bfddf-dc9b-4a03-8554-c64a2ab468fe"
      },
      "execution_count": 26,
      "outputs": [
        {
          "output_type": "stream",
          "name": "stdout",
          "text": [
            "Model: \"model\"\n",
            "__________________________________________________________________________________________________\n",
            " Layer (type)                   Output Shape         Param #     Connected to                     \n",
            "==================================================================================================\n",
            " input_ids (InputLayer)         [(None, 100)]        0           []                               \n",
            "                                                                                                  \n",
            " token_type_ids (InputLayer)    [(None, 100)]        0           []                               \n",
            "                                                                                                  \n",
            " attention_mask (InputLayer)    [(None, 100)]        0           []                               \n",
            "                                                                                                  \n",
            " bert (Custom>TFBertMainLayer)  {'pooler_output': (  108310272   ['input_ids[0][0]',              \n",
            "                                None, 768),                       'token_type_ids[0][0]',         \n",
            "                                 'last_hidden_state               'attention_mask[0][0]']         \n",
            "                                ': (None, 100, 768)                                               \n",
            "                                }                                                                 \n",
            "                                                                                                  \n",
            " dense (Dense)                  (None, 256)          196864      ['bert[0][1]']                   \n",
            "                                                                                                  \n",
            " dense_1 (Dense)                (None, 128)          32896       ['dense[0][0]']                  \n",
            "                                                                                                  \n",
            " dense_2 (Dense)                (None, 128)          16512       ['dense_1[0][0]']                \n",
            "                                                                                                  \n",
            " dense_3 (Dense)                (None, 5)            645         ['dense_2[0][0]']                \n",
            "                                                                                                  \n",
            "==================================================================================================\n",
            "Total params: 108,557,189\n",
            "Trainable params: 246,917\n",
            "Non-trainable params: 108,310,272\n",
            "__________________________________________________________________________________________________\n"
          ]
        }
      ]
    },
    {
      "cell_type": "code",
      "source": [
        "model.compile(optimizer=\"adam\",\n",
        "              loss=\"sparse_categorical_crossentropy\",\n",
        "              metrics=[\"sparse_categorical_accuracy\"])"
      ],
      "metadata": {
        "id": "3KVDoTnDaLNR"
      },
      "execution_count": 27,
      "outputs": []
    },
    {
      "cell_type": "code",
      "source": [
        "tf.test.gpu_device_name()"
      ],
      "metadata": {
        "id": "93gfITFThrc6",
        "colab": {
          "base_uri": "https://localhost:8080/",
          "height": 35
        },
        "outputId": "d92f03e7-cb00-45b6-8950-84e7b505aa9a"
      },
      "execution_count": 28,
      "outputs": [
        {
          "output_type": "execute_result",
          "data": {
            "text/plain": [
              "'/device:GPU:0'"
            ],
            "application/vnd.google.colaboratory.intrinsic+json": {
              "type": "string"
            }
          },
          "metadata": {},
          "execution_count": 28
        }
      ]
    },
    {
      "cell_type": "code",
      "source": [
        "from keras import backend as K\n",
        "K.set_value(model.optimizer.learning_rate, 0.00005)"
      ],
      "metadata": {
        "id": "yU4eX8KcjocY"
      },
      "execution_count": 29,
      "outputs": []
    },
    {
      "cell_type": "code",
      "source": [
        "BATCH_SIZE = 64\n",
        "epochs = 100\n",
        "\n",
        "# Fit\n",
        "history = model.fit([source_train['input_ids'], source_train['token_type_ids'], source_train['attention_mask']], label_train,\n",
        "                    batch_size=BATCH_SIZE,\n",
        "                    validation_data=([source_test['input_ids'], source_test['token_type_ids'], source_test['attention_mask']], label_test),\n",
        "                    epochs=epochs)"
      ],
      "metadata": {
        "id": "UcsC7YkBbHl0",
        "colab": {
          "base_uri": "https://localhost:8080/"
        },
        "outputId": "b021b997-98bc-428f-dbeb-996d75737484"
      },
      "execution_count": 30,
      "outputs": [
        {
          "output_type": "stream",
          "name": "stdout",
          "text": [
            "Epoch 1/100\n",
            "111/111 [==============================] - 66s 504ms/step - loss: 1.1185 - sparse_categorical_accuracy: 0.5006 - val_loss: 1.0214 - val_sparse_categorical_accuracy: 0.4394\n",
            "Epoch 2/100\n",
            "111/111 [==============================] - 57s 515ms/step - loss: 0.9341 - sparse_categorical_accuracy: 0.5667 - val_loss: 1.0304 - val_sparse_categorical_accuracy: 0.3860\n",
            "Epoch 3/100\n",
            "111/111 [==============================] - 56s 510ms/step - loss: 0.9016 - sparse_categorical_accuracy: 0.5871 - val_loss: 0.9857 - val_sparse_categorical_accuracy: 0.5305\n",
            "Epoch 4/100\n",
            "111/111 [==============================] - 57s 513ms/step - loss: 0.8868 - sparse_categorical_accuracy: 0.6049 - val_loss: 0.9678 - val_sparse_categorical_accuracy: 0.4956\n",
            "Epoch 5/100\n",
            "111/111 [==============================] - 57s 512ms/step - loss: 0.8654 - sparse_categorical_accuracy: 0.6150 - val_loss: 0.9084 - val_sparse_categorical_accuracy: 0.5681\n",
            "Epoch 6/100\n",
            "111/111 [==============================] - 57s 516ms/step - loss: 0.8543 - sparse_categorical_accuracy: 0.6187 - val_loss: 0.9787 - val_sparse_categorical_accuracy: 0.4702\n",
            "Epoch 7/100\n",
            "111/111 [==============================] - 57s 516ms/step - loss: 0.8420 - sparse_categorical_accuracy: 0.6243 - val_loss: 0.8746 - val_sparse_categorical_accuracy: 0.5852\n",
            "Epoch 8/100\n",
            "111/111 [==============================] - 57s 515ms/step - loss: 0.8275 - sparse_categorical_accuracy: 0.6266 - val_loss: 0.8038 - val_sparse_categorical_accuracy: 0.6099\n",
            "Epoch 9/100\n",
            "111/111 [==============================] - 57s 514ms/step - loss: 0.8171 - sparse_categorical_accuracy: 0.6337 - val_loss: 0.8977 - val_sparse_categorical_accuracy: 0.5606\n",
            "Epoch 10/100\n",
            "111/111 [==============================] - 57s 516ms/step - loss: 0.8125 - sparse_categorical_accuracy: 0.6373 - val_loss: 0.8698 - val_sparse_categorical_accuracy: 0.5852\n",
            "Epoch 11/100\n",
            "111/111 [==============================] - 57s 514ms/step - loss: 0.8001 - sparse_categorical_accuracy: 0.6415 - val_loss: 0.7946 - val_sparse_categorical_accuracy: 0.6194\n",
            "Epoch 12/100\n",
            "111/111 [==============================] - 57s 517ms/step - loss: 0.7971 - sparse_categorical_accuracy: 0.6404 - val_loss: 0.8752 - val_sparse_categorical_accuracy: 0.5770\n",
            "Epoch 13/100\n",
            "111/111 [==============================] - 57s 517ms/step - loss: 0.7828 - sparse_categorical_accuracy: 0.6489 - val_loss: 0.8692 - val_sparse_categorical_accuracy: 0.5818\n",
            "Epoch 14/100\n",
            "111/111 [==============================] - 57s 516ms/step - loss: 0.7875 - sparse_categorical_accuracy: 0.6486 - val_loss: 0.7586 - val_sparse_categorical_accuracy: 0.6468\n",
            "Epoch 15/100\n",
            "111/111 [==============================] - 57s 517ms/step - loss: 0.7815 - sparse_categorical_accuracy: 0.6495 - val_loss: 0.8377 - val_sparse_categorical_accuracy: 0.5927\n",
            "Epoch 16/100\n",
            "111/111 [==============================] - 57s 517ms/step - loss: 0.7744 - sparse_categorical_accuracy: 0.6519 - val_loss: 0.7814 - val_sparse_categorical_accuracy: 0.6270\n",
            "Epoch 17/100\n",
            "111/111 [==============================] - 57s 518ms/step - loss: 0.7673 - sparse_categorical_accuracy: 0.6550 - val_loss: 0.8508 - val_sparse_categorical_accuracy: 0.5914\n",
            "Epoch 18/100\n",
            "111/111 [==============================] - 57s 517ms/step - loss: 0.7651 - sparse_categorical_accuracy: 0.6606 - val_loss: 0.8549 - val_sparse_categorical_accuracy: 0.5921\n",
            "Epoch 19/100\n",
            "111/111 [==============================] - 57s 517ms/step - loss: 0.7648 - sparse_categorical_accuracy: 0.6613 - val_loss: 0.8315 - val_sparse_categorical_accuracy: 0.6010\n",
            "Epoch 20/100\n",
            "111/111 [==============================] - 57s 517ms/step - loss: 0.7540 - sparse_categorical_accuracy: 0.6643 - val_loss: 0.7777 - val_sparse_categorical_accuracy: 0.6249\n",
            "Epoch 21/100\n",
            "111/111 [==============================] - 57s 517ms/step - loss: 0.7546 - sparse_categorical_accuracy: 0.6606 - val_loss: 0.7959 - val_sparse_categorical_accuracy: 0.6188\n",
            "Epoch 22/100\n",
            "111/111 [==============================] - 57s 517ms/step - loss: 0.7515 - sparse_categorical_accuracy: 0.6596 - val_loss: 0.7582 - val_sparse_categorical_accuracy: 0.6372\n",
            "Epoch 23/100\n",
            "111/111 [==============================] - 57s 516ms/step - loss: 0.7407 - sparse_categorical_accuracy: 0.6709 - val_loss: 0.7448 - val_sparse_categorical_accuracy: 0.6434\n",
            "Epoch 24/100\n",
            "111/111 [==============================] - 57s 518ms/step - loss: 0.7560 - sparse_categorical_accuracy: 0.6614 - val_loss: 0.8608 - val_sparse_categorical_accuracy: 0.5886\n",
            "Epoch 25/100\n",
            "111/111 [==============================] - 57s 516ms/step - loss: 0.7411 - sparse_categorical_accuracy: 0.6675 - val_loss: 0.8189 - val_sparse_categorical_accuracy: 0.6030\n",
            "Epoch 26/100\n",
            "111/111 [==============================] - 57s 516ms/step - loss: 0.7534 - sparse_categorical_accuracy: 0.6634 - val_loss: 0.8473 - val_sparse_categorical_accuracy: 0.6003\n",
            "Epoch 27/100\n",
            "111/111 [==============================] - 57s 517ms/step - loss: 0.7426 - sparse_categorical_accuracy: 0.6625 - val_loss: 0.7691 - val_sparse_categorical_accuracy: 0.6242\n",
            "Epoch 28/100\n",
            "111/111 [==============================] - 57s 516ms/step - loss: 0.7339 - sparse_categorical_accuracy: 0.6785 - val_loss: 0.7564 - val_sparse_categorical_accuracy: 0.6386\n",
            "Epoch 29/100\n",
            "111/111 [==============================] - 57s 518ms/step - loss: 0.7330 - sparse_categorical_accuracy: 0.6756 - val_loss: 0.8041 - val_sparse_categorical_accuracy: 0.6270\n",
            "Epoch 30/100\n",
            "111/111 [==============================] - 57s 517ms/step - loss: 0.7291 - sparse_categorical_accuracy: 0.6750 - val_loss: 0.7828 - val_sparse_categorical_accuracy: 0.6324\n",
            "Epoch 31/100\n",
            "111/111 [==============================] - 57s 517ms/step - loss: 0.7276 - sparse_categorical_accuracy: 0.6748 - val_loss: 0.8282 - val_sparse_categorical_accuracy: 0.6105\n",
            "Epoch 32/100\n",
            "111/111 [==============================] - 57s 517ms/step - loss: 0.7416 - sparse_categorical_accuracy: 0.6714 - val_loss: 0.7480 - val_sparse_categorical_accuracy: 0.6448\n",
            "Epoch 33/100\n",
            "111/111 [==============================] - 57s 516ms/step - loss: 0.7341 - sparse_categorical_accuracy: 0.6743 - val_loss: 0.8149 - val_sparse_categorical_accuracy: 0.6160\n",
            "Epoch 34/100\n",
            "111/111 [==============================] - 57s 517ms/step - loss: 0.7305 - sparse_categorical_accuracy: 0.6758 - val_loss: 0.7287 - val_sparse_categorical_accuracy: 0.6557\n",
            "Epoch 35/100\n",
            "111/111 [==============================] - 57s 516ms/step - loss: 0.7253 - sparse_categorical_accuracy: 0.6716 - val_loss: 0.7364 - val_sparse_categorical_accuracy: 0.6468\n",
            "Epoch 36/100\n",
            "111/111 [==============================] - 57s 517ms/step - loss: 0.7285 - sparse_categorical_accuracy: 0.6719 - val_loss: 0.7837 - val_sparse_categorical_accuracy: 0.6386\n",
            "Epoch 37/100\n",
            "111/111 [==============================] - 57s 516ms/step - loss: 0.7161 - sparse_categorical_accuracy: 0.6853 - val_loss: 0.7380 - val_sparse_categorical_accuracy: 0.6496\n",
            "Epoch 38/100\n",
            "111/111 [==============================] - 57s 517ms/step - loss: 0.7127 - sparse_categorical_accuracy: 0.6866 - val_loss: 0.7460 - val_sparse_categorical_accuracy: 0.6407\n",
            "Epoch 39/100\n",
            "111/111 [==============================] - 57s 516ms/step - loss: 0.7133 - sparse_categorical_accuracy: 0.6868 - val_loss: 0.7164 - val_sparse_categorical_accuracy: 0.6605\n",
            "Epoch 40/100\n",
            "111/111 [==============================] - 57s 516ms/step - loss: 0.7216 - sparse_categorical_accuracy: 0.6780 - val_loss: 0.7426 - val_sparse_categorical_accuracy: 0.6393\n",
            "Epoch 41/100\n",
            "111/111 [==============================] - 57s 516ms/step - loss: 0.7138 - sparse_categorical_accuracy: 0.6819 - val_loss: 0.8022 - val_sparse_categorical_accuracy: 0.6208\n",
            "Epoch 42/100\n",
            "111/111 [==============================] - 57s 517ms/step - loss: 0.7179 - sparse_categorical_accuracy: 0.6793 - val_loss: 0.8275 - val_sparse_categorical_accuracy: 0.6037\n",
            "Epoch 43/100\n",
            "111/111 [==============================] - 57s 517ms/step - loss: 0.7193 - sparse_categorical_accuracy: 0.6841 - val_loss: 0.6981 - val_sparse_categorical_accuracy: 0.6667\n",
            "Epoch 44/100\n",
            "111/111 [==============================] - 57s 517ms/step - loss: 0.7284 - sparse_categorical_accuracy: 0.6814 - val_loss: 0.7059 - val_sparse_categorical_accuracy: 0.6680\n",
            "Epoch 45/100\n",
            "111/111 [==============================] - 57s 518ms/step - loss: 0.7175 - sparse_categorical_accuracy: 0.6803 - val_loss: 0.7684 - val_sparse_categorical_accuracy: 0.6283\n",
            "Epoch 46/100\n",
            "111/111 [==============================] - 57s 517ms/step - loss: 0.7199 - sparse_categorical_accuracy: 0.6850 - val_loss: 0.7103 - val_sparse_categorical_accuracy: 0.6564\n",
            "Epoch 47/100\n",
            "111/111 [==============================] - 57s 517ms/step - loss: 0.7027 - sparse_categorical_accuracy: 0.6924 - val_loss: 0.7918 - val_sparse_categorical_accuracy: 0.6256\n",
            "Epoch 48/100\n",
            "111/111 [==============================] - 57s 517ms/step - loss: 0.7109 - sparse_categorical_accuracy: 0.6867 - val_loss: 0.9266 - val_sparse_categorical_accuracy: 0.5702\n",
            "Epoch 49/100\n",
            "111/111 [==============================] - 57s 516ms/step - loss: 0.7239 - sparse_categorical_accuracy: 0.6804 - val_loss: 0.7230 - val_sparse_categorical_accuracy: 0.6591\n",
            "Epoch 50/100\n",
            "111/111 [==============================] - 57s 516ms/step - loss: 0.7035 - sparse_categorical_accuracy: 0.6914 - val_loss: 0.7362 - val_sparse_categorical_accuracy: 0.6448\n",
            "Epoch 51/100\n",
            "111/111 [==============================] - 57s 515ms/step - loss: 0.7050 - sparse_categorical_accuracy: 0.6928 - val_loss: 0.7569 - val_sparse_categorical_accuracy: 0.6468\n",
            "Epoch 52/100\n",
            "111/111 [==============================] - 57s 517ms/step - loss: 0.7001 - sparse_categorical_accuracy: 0.6948 - val_loss: 0.7433 - val_sparse_categorical_accuracy: 0.6407\n",
            "Epoch 53/100\n",
            "111/111 [==============================] - 57s 517ms/step - loss: 0.6915 - sparse_categorical_accuracy: 0.6993 - val_loss: 0.6834 - val_sparse_categorical_accuracy: 0.6817\n",
            "Epoch 54/100\n",
            "111/111 [==============================] - 57s 517ms/step - loss: 0.6957 - sparse_categorical_accuracy: 0.6929 - val_loss: 0.7403 - val_sparse_categorical_accuracy: 0.6468\n",
            "Epoch 55/100\n",
            "111/111 [==============================] - 57s 517ms/step - loss: 0.6970 - sparse_categorical_accuracy: 0.6932 - val_loss: 0.7969 - val_sparse_categorical_accuracy: 0.6057\n",
            "Epoch 56/100\n",
            "111/111 [==============================] - 57s 517ms/step - loss: 0.6990 - sparse_categorical_accuracy: 0.6914 - val_loss: 0.7498 - val_sparse_categorical_accuracy: 0.6386\n",
            "Epoch 57/100\n",
            "111/111 [==============================] - 57s 517ms/step - loss: 0.6949 - sparse_categorical_accuracy: 0.6963 - val_loss: 0.7375 - val_sparse_categorical_accuracy: 0.6523\n",
            "Epoch 58/100\n",
            "111/111 [==============================] - 57s 516ms/step - loss: 0.6863 - sparse_categorical_accuracy: 0.6983 - val_loss: 0.7259 - val_sparse_categorical_accuracy: 0.6598\n",
            "Epoch 59/100\n",
            "111/111 [==============================] - 57s 517ms/step - loss: 0.7005 - sparse_categorical_accuracy: 0.6900 - val_loss: 0.8011 - val_sparse_categorical_accuracy: 0.6311\n",
            "Epoch 60/100\n",
            "111/111 [==============================] - 57s 517ms/step - loss: 0.7076 - sparse_categorical_accuracy: 0.6898 - val_loss: 0.8372 - val_sparse_categorical_accuracy: 0.6071\n",
            "Epoch 61/100\n",
            "111/111 [==============================] - 57s 516ms/step - loss: 0.7091 - sparse_categorical_accuracy: 0.6902 - val_loss: 0.7055 - val_sparse_categorical_accuracy: 0.6612\n",
            "Epoch 62/100\n",
            "111/111 [==============================] - 57s 517ms/step - loss: 0.6886 - sparse_categorical_accuracy: 0.6981 - val_loss: 0.7269 - val_sparse_categorical_accuracy: 0.6585\n",
            "Epoch 63/100\n",
            "111/111 [==============================] - 57s 517ms/step - loss: 0.7138 - sparse_categorical_accuracy: 0.6873 - val_loss: 0.8191 - val_sparse_categorical_accuracy: 0.6146\n",
            "Epoch 64/100\n",
            "111/111 [==============================] - 57s 516ms/step - loss: 0.7050 - sparse_categorical_accuracy: 0.6870 - val_loss: 0.7006 - val_sparse_categorical_accuracy: 0.6680\n",
            "Epoch 65/100\n",
            "111/111 [==============================] - 57s 516ms/step - loss: 0.6864 - sparse_categorical_accuracy: 0.7039 - val_loss: 0.7164 - val_sparse_categorical_accuracy: 0.6585\n",
            "Epoch 66/100\n",
            "111/111 [==============================] - 57s 514ms/step - loss: 0.6784 - sparse_categorical_accuracy: 0.7017 - val_loss: 0.7610 - val_sparse_categorical_accuracy: 0.6496\n",
            "Epoch 67/100\n",
            "111/111 [==============================] - 57s 514ms/step - loss: 0.6822 - sparse_categorical_accuracy: 0.7027 - val_loss: 0.8011 - val_sparse_categorical_accuracy: 0.6249\n",
            "Epoch 68/100\n",
            "111/111 [==============================] - 57s 515ms/step - loss: 0.6801 - sparse_categorical_accuracy: 0.7071 - val_loss: 0.7955 - val_sparse_categorical_accuracy: 0.6249\n",
            "Epoch 69/100\n",
            "111/111 [==============================] - 57s 516ms/step - loss: 0.6833 - sparse_categorical_accuracy: 0.6979 - val_loss: 0.7176 - val_sparse_categorical_accuracy: 0.6523\n",
            "Epoch 70/100\n",
            "111/111 [==============================] - 57s 517ms/step - loss: 0.6864 - sparse_categorical_accuracy: 0.6939 - val_loss: 0.7144 - val_sparse_categorical_accuracy: 0.6591\n",
            "Epoch 71/100\n",
            "111/111 [==============================] - 57s 516ms/step - loss: 0.6768 - sparse_categorical_accuracy: 0.7023 - val_loss: 0.7101 - val_sparse_categorical_accuracy: 0.6715\n",
            "Epoch 72/100\n",
            "111/111 [==============================] - 57s 518ms/step - loss: 0.6721 - sparse_categorical_accuracy: 0.7027 - val_loss: 0.7433 - val_sparse_categorical_accuracy: 0.6502\n",
            "Epoch 73/100\n",
            "111/111 [==============================] - 57s 516ms/step - loss: 0.6756 - sparse_categorical_accuracy: 0.7020 - val_loss: 0.8360 - val_sparse_categorical_accuracy: 0.6071\n",
            "Epoch 74/100\n",
            "111/111 [==============================] - 57s 519ms/step - loss: 0.7028 - sparse_categorical_accuracy: 0.6914 - val_loss: 0.7354 - val_sparse_categorical_accuracy: 0.6475\n",
            "Epoch 75/100\n",
            "111/111 [==============================] - 57s 517ms/step - loss: 0.6796 - sparse_categorical_accuracy: 0.7026 - val_loss: 0.6692 - val_sparse_categorical_accuracy: 0.6893\n",
            "Epoch 76/100\n",
            "111/111 [==============================] - 57s 517ms/step - loss: 0.6890 - sparse_categorical_accuracy: 0.6965 - val_loss: 0.6946 - val_sparse_categorical_accuracy: 0.6701\n",
            "Epoch 77/100\n",
            "111/111 [==============================] - 57s 518ms/step - loss: 0.6717 - sparse_categorical_accuracy: 0.7100 - val_loss: 0.7196 - val_sparse_categorical_accuracy: 0.6516\n",
            "Epoch 78/100\n",
            "111/111 [==============================] - 57s 518ms/step - loss: 0.6771 - sparse_categorical_accuracy: 0.6989 - val_loss: 0.6610 - val_sparse_categorical_accuracy: 0.6906\n",
            "Epoch 79/100\n",
            "111/111 [==============================] - 58s 519ms/step - loss: 0.6823 - sparse_categorical_accuracy: 0.6999 - val_loss: 0.7026 - val_sparse_categorical_accuracy: 0.6550\n",
            "Epoch 80/100\n",
            "111/111 [==============================] - 57s 518ms/step - loss: 0.6739 - sparse_categorical_accuracy: 0.7070 - val_loss: 0.7470 - val_sparse_categorical_accuracy: 0.6386\n",
            "Epoch 81/100\n",
            "111/111 [==============================] - 57s 518ms/step - loss: 0.6853 - sparse_categorical_accuracy: 0.7023 - val_loss: 0.6807 - val_sparse_categorical_accuracy: 0.6756\n",
            "Epoch 82/100\n",
            "111/111 [==============================] - 57s 517ms/step - loss: 0.6712 - sparse_categorical_accuracy: 0.7073 - val_loss: 0.7158 - val_sparse_categorical_accuracy: 0.6571\n",
            "Epoch 83/100\n",
            "111/111 [==============================] - 57s 517ms/step - loss: 0.6720 - sparse_categorical_accuracy: 0.7017 - val_loss: 0.6870 - val_sparse_categorical_accuracy: 0.6728\n",
            "Epoch 84/100\n",
            "111/111 [==============================] - 57s 517ms/step - loss: 0.6692 - sparse_categorical_accuracy: 0.7138 - val_loss: 0.7135 - val_sparse_categorical_accuracy: 0.6626\n",
            "Epoch 85/100\n",
            "111/111 [==============================] - 57s 517ms/step - loss: 0.6882 - sparse_categorical_accuracy: 0.7005 - val_loss: 0.7203 - val_sparse_categorical_accuracy: 0.6591\n",
            "Epoch 86/100\n",
            "111/111 [==============================] - 57s 518ms/step - loss: 0.6647 - sparse_categorical_accuracy: 0.7111 - val_loss: 0.7709 - val_sparse_categorical_accuracy: 0.6400\n",
            "Epoch 87/100\n",
            "111/111 [==============================] - 57s 517ms/step - loss: 0.6711 - sparse_categorical_accuracy: 0.7096 - val_loss: 0.7037 - val_sparse_categorical_accuracy: 0.6632\n",
            "Epoch 88/100\n",
            "111/111 [==============================] - 57s 518ms/step - loss: 0.6691 - sparse_categorical_accuracy: 0.7094 - val_loss: 0.8596 - val_sparse_categorical_accuracy: 0.5975\n",
            "Epoch 89/100\n",
            "111/111 [==============================] - 57s 518ms/step - loss: 0.6798 - sparse_categorical_accuracy: 0.6983 - val_loss: 0.7571 - val_sparse_categorical_accuracy: 0.6400\n",
            "Epoch 90/100\n",
            "111/111 [==============================] - 57s 516ms/step - loss: 0.6712 - sparse_categorical_accuracy: 0.7077 - val_loss: 0.7269 - val_sparse_categorical_accuracy: 0.6523\n",
            "Epoch 91/100\n",
            "111/111 [==============================] - 57s 515ms/step - loss: 0.6662 - sparse_categorical_accuracy: 0.7133 - val_loss: 0.7681 - val_sparse_categorical_accuracy: 0.6359\n",
            "Epoch 92/100\n",
            "111/111 [==============================] - 57s 516ms/step - loss: 0.6772 - sparse_categorical_accuracy: 0.7044 - val_loss: 0.6992 - val_sparse_categorical_accuracy: 0.6728\n",
            "Epoch 93/100\n",
            "111/111 [==============================] - 57s 516ms/step - loss: 0.6586 - sparse_categorical_accuracy: 0.7145 - val_loss: 0.7233 - val_sparse_categorical_accuracy: 0.6516\n",
            "Epoch 94/100\n",
            "111/111 [==============================] - 57s 514ms/step - loss: 0.6563 - sparse_categorical_accuracy: 0.7118 - val_loss: 0.7647 - val_sparse_categorical_accuracy: 0.6434\n",
            "Epoch 95/100\n",
            "111/111 [==============================] - 57s 515ms/step - loss: 0.6742 - sparse_categorical_accuracy: 0.7073 - val_loss: 0.7025 - val_sparse_categorical_accuracy: 0.6687\n",
            "Epoch 96/100\n",
            "111/111 [==============================] - 57s 517ms/step - loss: 0.6572 - sparse_categorical_accuracy: 0.7157 - val_loss: 0.7279 - val_sparse_categorical_accuracy: 0.6530\n",
            "Epoch 97/100\n",
            "111/111 [==============================] - 57s 515ms/step - loss: 0.6575 - sparse_categorical_accuracy: 0.7135 - val_loss: 0.7386 - val_sparse_categorical_accuracy: 0.6571\n",
            "Epoch 98/100\n",
            "111/111 [==============================] - 57s 515ms/step - loss: 0.6649 - sparse_categorical_accuracy: 0.7077 - val_loss: 0.8072 - val_sparse_categorical_accuracy: 0.6188\n",
            "Epoch 99/100\n",
            "111/111 [==============================] - 57s 516ms/step - loss: 0.6602 - sparse_categorical_accuracy: 0.7100 - val_loss: 0.7273 - val_sparse_categorical_accuracy: 0.6523\n",
            "Epoch 100/100\n",
            "111/111 [==============================] - 57s 517ms/step - loss: 0.6893 - sparse_categorical_accuracy: 0.6948 - val_loss: 0.7335 - val_sparse_categorical_accuracy: 0.6578\n"
          ]
        }
      ]
    },
    {
      "cell_type": "code",
      "source": [
        "pd.DataFrame(history.history)[['sparse_categorical_accuracy', 'val_sparse_categorical_accuracy']].plot(figsize=(8,5))\n",
        "plt.xlabel('epoch')\n",
        "plt.ylabel('accuracy')\n",
        "plt.show()"
      ],
      "metadata": {
        "id": "2tQPL4FB0ckq",
        "colab": {
          "base_uri": "https://localhost:8080/",
          "height": 334
        },
        "outputId": "5ebd2dad-c30b-45b2-cad1-38624d6ce189"
      },
      "execution_count": 31,
      "outputs": [
        {
          "output_type": "display_data",
          "data": {
            "text/plain": [
              "<Figure size 576x360 with 1 Axes>"
            ],
            "image/png": "[encoded data removed]"
          },
          "metadata": {
            "needs_background": "light"
          }
        }
      ]
    },
    {
      "cell_type": "code",
      "source": [
        "pd.DataFrame(history.history).plot(figsize=(8,5))\n",
        "plt.show()"
      ],
      "metadata": {
        "colab": {
          "base_uri": "https://localhost:8080/",
          "height": 320
        },
        "id": "DBe0cLkogJgl",
        "outputId": "cbfbae59-459d-4036-96cb-5d9fba0f7893"
      },
      "execution_count": 32,
      "outputs": [
        {
          "output_type": "display_data",
          "data": {
            "text/plain": [
              "<Figure size 576x360 with 1 Axes>"
            ],
            "image/png": "[encoded data removed]"
          },
          "metadata": {
            "needs_background": "light"
          }
        }
      ]
    },
    {
      "cell_type": "code",
      "source": [
        "pred = np.argmax(model.predict(x=[source_test['input_ids'], source_test['token_type_ids'], source_test['attention_mask']]),axis=1)\n",
        "\n",
        "disp = ConfusionMatrixDisplay(confusion_matrix(tf.squeeze(label_test), pred, labels=[2,3,4]),\n",
        "                       display_labels=['neu','pos','neg'])\n",
        "disp.plot()\n",
        "plt.show()"
      ],
      "metadata": {
        "id": "KsrfMWANZCcR",
        "colab": {
          "base_uri": "https://localhost:8080/",
          "height": 297
        },
        "outputId": "5b8529af-c5ae-40b2-908a-3a86f3b2b8e0"
      },
      "execution_count": 33,
      "outputs": [
        {
          "output_type": "stream",
          "name": "stdout",
          "text": [
            "46/46 [==============================] - 11s 212ms/step\n"
          ]
        },
        {
          "output_type": "display_data",
          "data": {
            "text/plain": [
              "<Figure size 432x288 with 2 Axes>"
            ],
            "image/png": "[encoded data removed]"
          },
          "metadata": {
            "needs_background": "light"
          }
        }
      ]
    },
    {
      "cell_type": "code",
      "source": [
        "f1_score(tf.squeeze(label_test), pred, average='weighted')"
      ],
      "metadata": {
        "id": "YqowiyCq0ggy",
        "colab": {
          "base_uri": "https://localhost:8080/"
        },
        "outputId": "543514dc-f99e-4d52-e5cd-cf04c6f87692"
      },
      "execution_count": 34,
      "outputs": [
        {
          "output_type": "execute_result",
          "data": {
            "text/plain": [
              "0.6640495788095255"
            ]
          },
          "metadata": {},
          "execution_count": 34
        }
      ]
    }
  ]
}